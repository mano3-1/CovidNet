{
  "nbformat": 4,
  "nbformat_minor": 0,
  "metadata": {
    "colab": {
      "name": "cropping_with_BB.ipynb",
      "provenance": []
    },
    "kernelspec": {
      "name": "python3",
      "display_name": "Python 3"
    }
  },
  "cells": [
    {
      "cell_type": "code",
      "metadata": {
        "id": "WCyvkJdEtNRa",
        "colab_type": "code",
        "outputId": "d9082435-b8cb-44d9-d85f-c639324d074a",
        "colab": {
          "base_uri": "https://localhost:8080/",
          "height": 33
        }
      },
      "source": [
        "import cv2\n",
        "from PIL import Image\n",
        "import numpy as np\n",
        "from google.colab import drive\n",
        "import os\n",
        "from keras.models import load_model\n",
        "import keras.backend as K"
      ],
      "execution_count": 0,
      "outputs": [
        {
          "output_type": "stream",
          "text": [
            "Using TensorFlow backend.\n"
          ],
          "name": "stderr"
        }
      ]
    },
    {
      "cell_type": "code",
      "metadata": {
        "id": "Jk32FOBy2YeP",
        "colab_type": "code",
        "outputId": "68a63d06-a766-46fb-e273-34b4e2bda6b5",
        "colab": {
          "base_uri": "https://localhost:8080/",
          "height": 120
        }
      },
      "source": [
        "drive.mount('/content/gdrive')"
      ],
      "execution_count": 0,
      "outputs": [
        {
          "output_type": "stream",
          "text": [
            "Go to this URL in a browser: https://accounts.google.com/o/oauth2/auth?client_id=947318989803-6bn6qk8qdgf4n4g3pfee6491hc0brc4i.apps.googleusercontent.com&redirect_uri=urn%3aietf%3awg%3aoauth%3a2.0%3aoob&response_type=code&scope=email%20https%3a%2f%2fwww.googleapis.com%2fauth%2fdocs.test%20https%3a%2f%2fwww.googleapis.com%2fauth%2fdrive%20https%3a%2f%2fwww.googleapis.com%2fauth%2fdrive.photos.readonly%20https%3a%2f%2fwww.googleapis.com%2fauth%2fpeopleapi.readonly\n",
            "\n",
            "Enter your authorization code:\n",
            "··········\n",
            "Mounted at /content/gdrive\n"
          ],
          "name": "stdout"
        }
      ]
    },
    {
      "cell_type": "code",
      "metadata": {
        "id": "7RGI_QS51sMA",
        "colab_type": "code",
        "colab": {}
      },
      "source": [
        "def loss(y_true ,y_pred):\n",
        "    return K.sum(K.square(y_true-y_pred))**2\n",
        "model = load_model('/content/gdrive/My Drive/final_pipeline/BB.h5' ,custom_objects = {'loss':loss})"
      ],
      "execution_count": 0,
      "outputs": []
    },
    {
      "cell_type": "code",
      "metadata": {
        "id": "5RWDaxQutS4r",
        "colab_type": "code",
        "outputId": "77bb57de-24e0-416d-cb18-98b1d59d243b",
        "colab": {
          "base_uri": "https://localhost:8080/",
          "height": 1000
        }
      },
      "source": [
        "path = '/content/gdrive/My Drive/covidNet/pneumonia_chest_x-ray_data/chest_xray/valid'\n",
        "save_dir  = '/content/gdrive/My Drive/covidNet/cropped_pn_dataset/valid'\n",
        "folders = os.listdir(path)\n",
        "def crop(prediction ,img ,epsilon = 0.2):\n",
        "    k = prediction[0]*224\n",
        "    k1 = [min(k[0] ,k[4])*(1-epsilon) ,min(k[1] ,k[5])*(1-epsilon) ,\n",
        "              max(k[2]+k[0] ,k[6]+k[4])*(1+epsilon) ,max(k[3]+k[1] ,k[7]+k[5])*(1+epsilon)]\n",
        "    for i in range(len(k1)):\n",
        "        k1[i] = int(k1[i])\n",
        "    if k1[0]<0:k1[0]=0\n",
        "    if k1[1]<0:k1[1]=1\n",
        "    if k1[2]>224:k1[2]=224\n",
        "    if k1[3]>224:k1[3]=224\n",
        "    img1 = img.crop(tuple(k1))\n",
        "    img1 = img1.resize((224 ,224))\n",
        "    return np.array(img1)   \n",
        "for folder in folders:\n",
        "    fol_dir = os.path.join(path ,folder)\n",
        "    files = os.listdir(fol_dir)\n",
        "    os.mkdir(os.path.join(save_dir ,folder))\n",
        "    save_dir_ = os.path.join(save_dir ,folder)\n",
        "    for file in files:\n",
        "        file_dir = os.path.join(fol_dir ,file)\n",
        "        image = cv2.imread(file_dir ,cv2.IMREAD_GRAYSCALE)\n",
        "        image_ = cv2.resize(image ,(224 ,224))\n",
        "        image = ((image_/255)-0.5)*2\n",
        "        pred = model.predict(image.reshape((1,224,224,1)))\n",
        "        image__ = Image.open(file_dir)\n",
        "        image__ = image__.resize((224 ,224))\n",
        "        cropped_image = crop(pred ,image__)\n",
        "        cv2.imwrite(os.path.join(save_dir_ ,file) ,cropped_image)\n",
        "        print('{} from {} is cropped and saved'.format(file ,folder))"
      ],
      "execution_count": 0,
      "outputs": [
        {
          "output_type": "stream",
          "text": [
            "IM-0115-0001.jpeg from NORMAL is cropped and saved\n",
            "IM-0164-0001.jpeg from NORMAL is cropped and saved\n",
            "IM-0154-0001.jpeg from NORMAL is cropped and saved\n",
            "IM-0133-0001.jpeg from NORMAL is cropped and saved\n",
            "IM-0119-0001.jpeg from NORMAL is cropped and saved\n",
            "IM-0129-0001.jpeg from NORMAL is cropped and saved\n",
            "IM-0140-0001.jpeg from NORMAL is cropped and saved\n",
            "IM-0158-0001.jpeg from NORMAL is cropped and saved\n",
            "IM-0156-0001.jpeg from NORMAL is cropped and saved\n",
            "IM-0127-0001.jpeg from NORMAL is cropped and saved\n",
            "IM-0125-0001.jpeg from NORMAL is cropped and saved\n",
            "IM-0131-0001.jpeg from NORMAL is cropped and saved\n",
            "IM-0162-0001.jpeg from NORMAL is cropped and saved\n",
            "IM-0135-0001.jpeg from NORMAL is cropped and saved\n",
            "IM-0166-0001.jpeg from NORMAL is cropped and saved\n",
            "IM-0160-0001.jpeg from NORMAL is cropped and saved\n",
            "IM-0117-0001.jpeg from NORMAL is cropped and saved\n",
            "IM-0128-0001.jpeg from NORMAL is cropped and saved\n",
            "IM-0147-0001.jpeg from NORMAL is cropped and saved\n",
            "IM-0149-0001.jpeg from NORMAL is cropped and saved\n",
            "IM-0143-0001.jpeg from NORMAL is cropped and saved\n",
            "IM-0152-0001.jpeg from NORMAL is cropped and saved\n",
            "IM-0145-0001.jpeg from NORMAL is cropped and saved\n",
            "IM-0122-0001.jpeg from NORMAL is cropped and saved\n",
            "IM-0137-0001.jpeg from NORMAL is cropped and saved\n",
            "IM-0141-0001.jpeg from NORMAL is cropped and saved\n",
            "IM-0168-0001.jpeg from NORMAL is cropped and saved\n",
            "IM-0151-0001.jpeg from NORMAL is cropped and saved\n",
            "IM-0182-0001.jpeg from NORMAL is cropped and saved\n",
            "IM-0178-0001.jpeg from NORMAL is cropped and saved\n",
            "IM-0203-0001.jpeg from NORMAL is cropped and saved\n",
            "IM-0210-0001.jpeg from NORMAL is cropped and saved\n",
            "IM-0185-0001.jpeg from NORMAL is cropped and saved\n",
            "IM-0206-0001.jpeg from NORMAL is cropped and saved\n",
            "IM-0176-0001.jpeg from NORMAL is cropped and saved\n",
            "IM-0209-0001.jpeg from NORMAL is cropped and saved\n",
            "IM-0189-0001.jpeg from NORMAL is cropped and saved\n",
            "IM-0183-0001.jpeg from NORMAL is cropped and saved\n",
            "IM-0180-0001.jpeg from NORMAL is cropped and saved\n",
            "IM-0172-0001.jpeg from NORMAL is cropped and saved\n",
            "IM-0177-0001.jpeg from NORMAL is cropped and saved\n",
            "IM-0195-0001.jpeg from NORMAL is cropped and saved\n",
            "IM-0201-0001.jpeg from NORMAL is cropped and saved\n",
            "IM-0205-0001.jpeg from NORMAL is cropped and saved\n",
            "IM-0193-0001.jpeg from NORMAL is cropped and saved\n",
            "IM-0170-0001.jpeg from NORMAL is cropped and saved\n",
            "IM-0191-0001.jpeg from NORMAL is cropped and saved\n",
            "IM-0187-0001.jpeg from NORMAL is cropped and saved\n",
            "IM-0207-0001.jpeg from NORMAL is cropped and saved\n",
            "IM-0199-0001.jpeg from NORMAL is cropped and saved\n",
            "NORMAL2-IM-1427-0001.jpeg from NORMAL is cropped and saved\n",
            "NORMAL2-IM-1430-0001.jpeg from NORMAL is cropped and saved\n",
            "NORMAL2-IM-1431-0001.jpeg from NORMAL is cropped and saved\n",
            "NORMAL2-IM-1436-0001.jpeg from NORMAL is cropped and saved\n",
            "NORMAL2-IM-1437-0001.jpeg from NORMAL is cropped and saved\n",
            "NORMAL2-IM-1438-0001.jpeg from NORMAL is cropped and saved\n",
            "NORMAL2-IM-1440-0001.jpeg from NORMAL is cropped and saved\n",
            "NORMAL2-IM-1442-0001.jpeg from NORMAL is cropped and saved\n",
            "person1000_bacteria_2931.jpeg from PNEUMONIA is cropped and saved\n",
            "person1000_virus_1681.jpeg from PNEUMONIA is cropped and saved\n",
            "person1001_bacteria_2932.jpeg from PNEUMONIA is cropped and saved\n",
            "person1002_bacteria_2933.jpeg from PNEUMONIA is cropped and saved\n",
            "person1003_bacteria_2934.jpeg from PNEUMONIA is cropped and saved\n",
            "person1003_virus_1685.jpeg from PNEUMONIA is cropped and saved\n",
            "person1004_bacteria_2935.jpeg from PNEUMONIA is cropped and saved\n",
            "person1004_virus_1686.jpeg from PNEUMONIA is cropped and saved\n",
            "person1005_bacteria_2936.jpeg from PNEUMONIA is cropped and saved\n",
            "person1005_virus_1688.jpeg from PNEUMONIA is cropped and saved\n",
            "person1006_bacteria_2937.jpeg from PNEUMONIA is cropped and saved\n",
            "person1007_bacteria_2938.jpeg from PNEUMONIA is cropped and saved\n",
            "person1007_virus_1690.jpeg from PNEUMONIA is cropped and saved\n",
            "person1008_bacteria_2939.jpeg from PNEUMONIA is cropped and saved\n",
            "person1008_virus_1691.jpeg from PNEUMONIA is cropped and saved\n",
            "person1009_virus_1694.jpeg from PNEUMONIA is cropped and saved\n",
            "person100_virus_184.jpeg from PNEUMONIA is cropped and saved\n",
            "person1010_bacteria_2941.jpeg from PNEUMONIA is cropped and saved\n",
            "person1010_virus_1695.jpeg from PNEUMONIA is cropped and saved\n",
            "person1011_bacteria_2942.jpeg from PNEUMONIA is cropped and saved\n",
            "person1012_bacteria_2943.jpeg from PNEUMONIA is cropped and saved\n",
            "person1014_bacteria_2945.jpeg from PNEUMONIA is cropped and saved\n",
            "person1015_virus_1701.jpeg from PNEUMONIA is cropped and saved\n",
            "person1015_virus_1702.jpeg from PNEUMONIA is cropped and saved\n",
            "person1016_bacteria_2947.jpeg from PNEUMONIA is cropped and saved\n",
            "person1016_virus_1704.jpeg from PNEUMONIA is cropped and saved\n",
            "person1017_bacteria_2948.jpeg from PNEUMONIA is cropped and saved\n",
            "person1018_bacteria_2949.jpeg from PNEUMONIA is cropped and saved\n",
            "person1018_virus_1706.jpeg from PNEUMONIA is cropped and saved\n",
            "person1019_bacteria_2950.jpeg from PNEUMONIA is cropped and saved\n",
            "person1019_virus_1707.jpeg from PNEUMONIA is cropped and saved\n",
            "person1019_virus_1708.jpeg from PNEUMONIA is cropped and saved\n",
            "person101_virus_187.jpeg from PNEUMONIA is cropped and saved\n",
            "person101_virus_188.jpeg from PNEUMONIA is cropped and saved\n",
            "person1020_bacteria_2951.jpeg from PNEUMONIA is cropped and saved\n",
            "person1020_virus_1710.jpeg from PNEUMONIA is cropped and saved\n",
            "person1021_virus_1711.jpeg from PNEUMONIA is cropped and saved\n",
            "person1022_bacteria_2953.jpeg from PNEUMONIA is cropped and saved\n",
            "person1022_virus_1712.jpeg from PNEUMONIA is cropped and saved\n",
            "person1023_bacteria_2954.jpeg from PNEUMONIA is cropped and saved\n",
            "person1023_virus_1714.jpeg from PNEUMONIA is cropped and saved\n",
            "person1024_bacteria_2955.jpeg from PNEUMONIA is cropped and saved\n",
            "person1024_virus_1716.jpeg from PNEUMONIA is cropped and saved\n",
            "person1026_bacteria_2957.jpeg from PNEUMONIA is cropped and saved\n",
            "person1026_virus_1718.jpeg from PNEUMONIA is cropped and saved\n",
            "person1028_bacteria_2959.jpeg from PNEUMONIA is cropped and saved\n",
            "person1028_bacteria_2960.jpeg from PNEUMONIA is cropped and saved\n",
            "person1029_bacteria_2961.jpeg from PNEUMONIA is cropped and saved\n",
            "person1029_virus_1721.jpeg from PNEUMONIA is cropped and saved\n",
            "person102_virus_189.jpeg from PNEUMONIA is cropped and saved\n",
            "person1946_bacteria_4874.jpeg from PNEUMONIA is cropped and saved\n",
            "person1946_bacteria_4875.jpeg from PNEUMONIA is cropped and saved\n",
            "person1947_bacteria_4876.jpeg from PNEUMONIA is cropped and saved\n",
            "person1949_bacteria_4880.jpeg from PNEUMONIA is cropped and saved\n",
            "person1950_bacteria_4881.jpeg from PNEUMONIA is cropped and saved\n",
            "person1951_bacteria_4882.jpeg from PNEUMONIA is cropped and saved\n",
            "person1952_bacteria_4883.jpeg from PNEUMONIA is cropped and saved\n",
            "person1954_bacteria_4886.jpeg from PNEUMONIA is cropped and saved\n"
          ],
          "name": "stdout"
        }
      ]
    },
    {
      "cell_type": "code",
      "metadata": {
        "id": "wRofk4RZv-IP",
        "colab_type": "code",
        "colab": {}
      },
      "source": [
        ""
      ],
      "execution_count": 0,
      "outputs": []
    }
  ]
}