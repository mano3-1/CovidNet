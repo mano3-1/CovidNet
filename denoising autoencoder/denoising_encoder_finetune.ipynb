{
 "cells": [
  {
   "cell_type": "code",
   "execution_count": 1,
   "metadata": {},
   "outputs": [
    {
     "name": "stderr",
     "output_type": "stream",
     "text": [
      "Using TensorFlow backend.\n"
     ]
    }
   ],
   "source": [
    "#importing dependencies\n",
    "import keras\n",
    "import cv2\n",
    "import keras.backend as K\n",
    "from keras.layers import Dense ,Conv2D ,MaxPooling2D ,Dropout ,Flatten ,Activation ,Multiply\n",
    "from keras.activations import tanh\n",
    "from keras.optimizers import Adam\n",
    "import numpy as np\n",
    "import tensorflow as tf\n",
    "from keras.callbacks import ModelCheckpoint as checkpoint\n",
    "import os\n",
    "import random\n",
    "import matplotlib.pyplot as plt\n",
    "from sklearn.metrics import accuracy_score, precision_score ,recall_score ,f1_score ,roc_auc_score ,confusion_matrix\n",
    "from keras.models import load_model ,Model"
   ]
  },
  {
   "cell_type": "code",
   "execution_count": 2,
   "metadata": {},
   "outputs": [],
   "source": [
    "#defining function to load and proces the data from the directory\n",
    "def load_and_process_data(parent_dir):\n",
    "    classes = os.listdir(parent_dir)\n",
    "    no_of_classes = len(classes)\n",
    "    class_counter = 0\n",
    "    file_counter = 0\n",
    "    X_train = []\n",
    "    Y_train = []\n",
    "    for folder in classes:\n",
    "        class_dir = os.path.join(parent_dir ,folder)\n",
    "        print('class {} is {}'.format(class_counter ,folder))\n",
    "        for file in os.listdir(class_dir):\n",
    "            file_counter += 1 \n",
    "            label = np.zeros([len(classes)])\n",
    "            label[class_counter] = 1\n",
    "            final_image = preprocess(os.path.join(class_dir ,file))\n",
    "            X_train.append(final_image)\n",
    "            Y_train.append(label)\n",
    "        class_counter += 1\n",
    "    print('Found {} images belonging to {} classes'.format(file_counter ,len(classes)))\n",
    "    X_train = np.asarray(X_train)\n",
    "    Y_train = np.asarray(Y_train)\n",
    "    return X_train ,Y_train"
   ]
  },
  {
   "cell_type": "code",
   "execution_count": 3,
   "metadata": {},
   "outputs": [],
   "source": [
    "#definging a preprocessing function\n",
    "def preprocess(file):\n",
    "    image = cv2.imread(file ,cv2.IMREAD_GRAYSCALE)\n",
    "    if image is not None:\n",
    "        image = cv2.resize(image ,(224,224))\n",
    "        image = ((image/255)-0.5)*2\n",
    "    else:\n",
    "        print('No such {} exists'.format(file))\n",
    "    return image.reshape((224 ,224 , 1))"
   ]
  },
  {
   "cell_type": "code",
   "execution_count": 4,
   "metadata": {},
   "outputs": [],
   "source": [
    "#focal loss for training\n",
    "def myloss(alpha ,gamma):\n",
    "    def focal_loss(y_true ,y_pred):\n",
    "        y_pred = K.clip(y_pred ,1e-8 ,1-1e-8)\n",
    "        log_lik = y_true*K.log(y_pred)\n",
    "        loss = alpha*((1-y_pred)**gamma)*log_lik\n",
    "        return -K.sum(loss)\n",
    "    return focal_loss\n",
    "focal_loss = myloss(2.0 ,1.5)"
   ]
  },
  {
   "cell_type": "code",
   "execution_count": 5,
   "metadata": {},
   "outputs": [
    {
     "name": "stderr",
     "output_type": "stream",
     "text": [
      "C:\\Users\\Lenovo\\anaconda3\\envs\\uv\\lib\\site-packages\\keras\\engine\\saving.py:341: UserWarning: No training configuration found in save file: the model was *not* compiled. Compile it manually.\n",
      "  warnings.warn('No training configuration found in save file: '\n"
     ]
    }
   ],
   "source": [
    "#pretrained efficient net trained on pneumonia cropped dataset(based on segmentation)\n",
    "encoder = load_model('denoise_encoderv4.h5')"
   ]
  },
  {
   "cell_type": "code",
   "execution_count": 6,
   "metadata": {},
   "outputs": [],
   "source": [
    "#defining attention mechanism\n",
    "def attention_layer(flatten):\n",
    "    activation = Activation(tanh ,name = 'myactivation')(flatten)\n",
    "    activation = Dropout(0.2 ,name = 'dropout')(activation)\n",
    "    softmax_layer = Dense(2304 ,activation = 'softmax')(activation)\n",
    "    multiplied =  Multiply(name = 'manoj')([softmax_layer ,flatten])\n",
    "    return multiplied"
   ]
  },
  {
   "cell_type": "code",
   "execution_count": 7,
   "metadata": {},
   "outputs": [],
   "source": [
    "#setting all layers to trainable(can be ignored because ,by default everything will be trainable)\n",
    "for layer in encoder.layers:\n",
    "    layer.trainable = True"
   ]
  },
  {
   "cell_type": "code",
   "execution_count": 8,
   "metadata": {},
   "outputs": [
    {
     "name": "stdout",
     "output_type": "stream",
     "text": [
      "Model: \"model_2\"\n",
      "__________________________________________________________________________________________________\n",
      "Layer (type)                    Output Shape         Param #     Connected to                     \n",
      "==================================================================================================\n",
      "input_1 (InputLayer)            (None, 224, 224, 1)  0                                            \n",
      "__________________________________________________________________________________________________\n",
      "conv2d_1 (Conv2D)               (None, 224, 224, 32) 320         input_1[0][0]                    \n",
      "__________________________________________________________________________________________________\n",
      "conv2d_2 (Conv2D)               (None, 224, 224, 32) 9248        conv2d_1[0][0]                   \n",
      "__________________________________________________________________________________________________\n",
      "max_pooling2d_1 (MaxPooling2D)  (None, 112, 112, 32) 0           conv2d_2[0][0]                   \n",
      "__________________________________________________________________________________________________\n",
      "dropout_1 (Dropout)             (None, 112, 112, 32) 0           max_pooling2d_1[0][0]            \n",
      "__________________________________________________________________________________________________\n",
      "conv2d_3 (Conv2D)               (None, 112, 112, 64) 18496       dropout_1[0][0]                  \n",
      "__________________________________________________________________________________________________\n",
      "conv2d_4 (Conv2D)               (None, 112, 112, 64) 36928       conv2d_3[0][0]                   \n",
      "__________________________________________________________________________________________________\n",
      "max_pooling2d_2 (MaxPooling2D)  (None, 56, 56, 64)   0           conv2d_4[0][0]                   \n",
      "__________________________________________________________________________________________________\n",
      "dropout_2 (Dropout)             (None, 56, 56, 64)   0           max_pooling2d_2[0][0]            \n",
      "__________________________________________________________________________________________________\n",
      "conv2d_5 (Conv2D)               (None, 56, 56, 128)  73856       dropout_2[0][0]                  \n",
      "__________________________________________________________________________________________________\n",
      "conv2d_6 (Conv2D)               (None, 56, 56, 128)  147584      conv2d_5[0][0]                   \n",
      "__________________________________________________________________________________________________\n",
      "max_pooling2d_3 (MaxPooling2D)  (None, 28, 28, 128)  0           conv2d_6[0][0]                   \n",
      "__________________________________________________________________________________________________\n",
      "dropout_3 (Dropout)             (None, 28, 28, 128)  0           max_pooling2d_3[0][0]            \n",
      "__________________________________________________________________________________________________\n",
      "conv2d_7 (Conv2D)               (None, 28, 28, 256)  295168      dropout_3[0][0]                  \n",
      "__________________________________________________________________________________________________\n",
      "conv2d_8 (Conv2D)               (None, 28, 28, 256)  590080      conv2d_7[0][0]                   \n",
      "__________________________________________________________________________________________________\n",
      "max_pooling2d_4 (MaxPooling2D)  (None, 14, 14, 256)  0           conv2d_8[0][0]                   \n",
      "__________________________________________________________________________________________________\n",
      "dropout_4 (Dropout)             (None, 14, 14, 256)  0           max_pooling2d_4[0][0]            \n",
      "__________________________________________________________________________________________________\n",
      "conv2d_9 (Conv2D)               (None, 14, 14, 512)  1180160     dropout_4[0][0]                  \n",
      "__________________________________________________________________________________________________\n",
      "conv2d_10 (Conv2D)              (None, 14, 14, 512)  2359808     conv2d_9[0][0]                   \n",
      "__________________________________________________________________________________________________\n",
      "conv2d_transpose_1 (Conv2DTrans (None, 28, 28, 256)  1179904     conv2d_10[0][0]                  \n",
      "__________________________________________________________________________________________________\n",
      "concatenate_1 (Concatenate)     (None, 28, 28, 512)  0           conv2d_transpose_1[0][0]         \n",
      "                                                                 conv2d_8[0][0]                   \n",
      "__________________________________________________________________________________________________\n",
      "dropout_5 (Dropout)             (None, 28, 28, 512)  0           concatenate_1[0][0]              \n",
      "__________________________________________________________________________________________________\n",
      "conv2d_11 (Conv2D)              (None, 28, 28, 256)  1179904     dropout_5[0][0]                  \n",
      "__________________________________________________________________________________________________\n",
      "conv2d_12 (Conv2D)              (None, 28, 28, 256)  590080      conv2d_11[0][0]                  \n",
      "==================================================================================================\n",
      "Total params: 7,661,536\n",
      "Trainable params: 7,661,536\n",
      "Non-trainable params: 0\n",
      "__________________________________________________________________________________________________\n"
     ]
    }
   ],
   "source": [
    "#printing the efficient net summary\n",
    "encoder.summary()"
   ]
  },
  {
   "cell_type": "code",
   "execution_count": 9,
   "metadata": {},
   "outputs": [
    {
     "name": "stdout",
     "output_type": "stream",
     "text": [
      "Tensor(\"Shape:0\", shape=(4,), dtype=int32)\n",
      "Model: \"model_1\"\n",
      "__________________________________________________________________________________________________\n",
      "Layer (type)                    Output Shape         Param #     Connected to                     \n",
      "==================================================================================================\n",
      "input_1 (InputLayer)            (None, 224, 224, 1)  0                                            \n",
      "__________________________________________________________________________________________________\n",
      "conv2d_1 (Conv2D)               (None, 224, 224, 32) 320         input_1[0][0]                    \n",
      "__________________________________________________________________________________________________\n",
      "conv2d_2 (Conv2D)               (None, 224, 224, 32) 9248        conv2d_1[0][0]                   \n",
      "__________________________________________________________________________________________________\n",
      "max_pooling2d_1 (MaxPooling2D)  (None, 112, 112, 32) 0           conv2d_2[0][0]                   \n",
      "__________________________________________________________________________________________________\n",
      "dropout_1 (Dropout)             (None, 112, 112, 32) 0           max_pooling2d_1[0][0]            \n",
      "__________________________________________________________________________________________________\n",
      "conv2d_3 (Conv2D)               (None, 112, 112, 64) 18496       dropout_1[0][0]                  \n",
      "__________________________________________________________________________________________________\n",
      "conv2d_4 (Conv2D)               (None, 112, 112, 64) 36928       conv2d_3[0][0]                   \n",
      "__________________________________________________________________________________________________\n",
      "max_pooling2d_2 (MaxPooling2D)  (None, 56, 56, 64)   0           conv2d_4[0][0]                   \n",
      "__________________________________________________________________________________________________\n",
      "dropout_2 (Dropout)             (None, 56, 56, 64)   0           max_pooling2d_2[0][0]            \n",
      "__________________________________________________________________________________________________\n",
      "conv2d_5 (Conv2D)               (None, 56, 56, 128)  73856       dropout_2[0][0]                  \n",
      "__________________________________________________________________________________________________\n",
      "conv2d_6 (Conv2D)               (None, 56, 56, 128)  147584      conv2d_5[0][0]                   \n",
      "__________________________________________________________________________________________________\n",
      "max_pooling2d_3 (MaxPooling2D)  (None, 28, 28, 128)  0           conv2d_6[0][0]                   \n",
      "__________________________________________________________________________________________________\n",
      "dropout_3 (Dropout)             (None, 28, 28, 128)  0           max_pooling2d_3[0][0]            \n",
      "__________________________________________________________________________________________________\n",
      "conv2d_7 (Conv2D)               (None, 28, 28, 256)  295168      dropout_3[0][0]                  \n",
      "__________________________________________________________________________________________________\n",
      "conv2d_8 (Conv2D)               (None, 28, 28, 256)  590080      conv2d_7[0][0]                   \n",
      "__________________________________________________________________________________________________\n",
      "max_pooling2d_4 (MaxPooling2D)  (None, 14, 14, 256)  0           conv2d_8[0][0]                   \n",
      "__________________________________________________________________________________________________\n",
      "dropout_4 (Dropout)             (None, 14, 14, 256)  0           max_pooling2d_4[0][0]            \n",
      "__________________________________________________________________________________________________\n",
      "conv2d_9 (Conv2D)               (None, 14, 14, 512)  1180160     dropout_4[0][0]                  \n",
      "__________________________________________________________________________________________________\n",
      "conv2d_10 (Conv2D)              (None, 14, 14, 512)  2359808     conv2d_9[0][0]                   \n",
      "__________________________________________________________________________________________________\n",
      "conv2d_transpose_1 (Conv2DTrans (None, 28, 28, 256)  1179904     conv2d_10[0][0]                  \n",
      "__________________________________________________________________________________________________\n",
      "concatenate_1 (Concatenate)     (None, 28, 28, 512)  0           conv2d_transpose_1[0][0]         \n",
      "                                                                 conv2d_8[0][0]                   \n",
      "__________________________________________________________________________________________________\n",
      "dropout_5 (Dropout)             (None, 28, 28, 512)  0           concatenate_1[0][0]              \n",
      "__________________________________________________________________________________________________\n",
      "conv2d_11 (Conv2D)              (None, 28, 28, 256)  1179904     dropout_5[0][0]                  \n",
      "__________________________________________________________________________________________________\n",
      "conv2d_12 (Conv2D)              (None, 28, 28, 256)  590080      conv2d_11[0][0]                  \n",
      "__________________________________________________________________________________________________\n",
      "conv (Conv2D)                   (None, 13, 13, 256)  590080      conv2d_12[0][0]                  \n",
      "__________________________________________________________________________________________________\n",
      "max_pool (MaxPooling2D)         (None, 3, 3, 256)    0           conv[0][0]                       \n",
      "__________________________________________________________________________________________________\n",
      "flatten_1 (Flatten)             (None, 2304)         0           max_pool[0][0]                   \n",
      "__________________________________________________________________________________________________\n",
      "myactivation (Activation)       (None, 2304)         0           flatten_1[0][0]                  \n",
      "__________________________________________________________________________________________________\n",
      "dropout (Dropout)               (None, 2304)         0           myactivation[0][0]               \n",
      "__________________________________________________________________________________________________\n",
      "dense_1 (Dense)                 (None, 2304)         5310720     dropout[0][0]                    \n",
      "__________________________________________________________________________________________________\n",
      "manoj (Multiply)                (None, 2304)         0           dense_1[0][0]                    \n",
      "                                                                 flatten_1[0][0]                  \n",
      "__________________________________________________________________________________________________\n",
      "dense_2 (Dense)                 (None, 3)            6915        manoj[0][0]                      \n",
      "==================================================================================================\n",
      "Total params: 13,569,251\n",
      "Trainable params: 13,569,251\n",
      "Non-trainable params: 0\n",
      "__________________________________________________________________________________________________\n"
     ]
    }
   ],
   "source": [
    "#building ,compiling ,printing the summary\n",
    "input_ = encoder.output\n",
    "print(tf.shape(input_))\n",
    "Conv_layer = Conv2D(256 ,(3 ,3) ,strides = (2,2) ,kernel_initializer = 'glorot_uniform' ,activation = 'elu',name='conv')(input_)\n",
    "max_pool = MaxPooling2D((4 ,4) ,name = 'max_pool')(Conv_layer)\n",
    "flatten = Flatten()(max_pool)\n",
    "attention_output = attention_layer(flatten)\n",
    "final_softmax = Dense(3 ,activation = 'softmax')(attention_output)\n",
    "model = Model(inputs = encoder.input ,outputs = [final_softmax])\n",
    "model.summary()\n",
    "model.compile(loss = myloss(2.0 ,1.5) ,optimizer = Adam(lr = 0.000005) ,metrics = ['acc'])"
   ]
  },
  {
   "cell_type": "code",
   "execution_count": 47,
   "metadata": {},
   "outputs": [
    {
     "name": "stdout",
     "output_type": "stream",
     "text": [
      "class 0 is covid\n",
      "class 1 is healthy\n",
      "class 2 is pneumonia\n",
      "Found 587 images belonging to 3 classes\n",
      "class 0 is covid\n",
      "class 1 is healthy\n",
      "class 2 is pneumonia\n",
      "Found 42 images belonging to 3 classes\n",
      "class 0 is covid\n",
      "class 1 is healthy\n",
      "class 2 is pneumonia\n",
      "Found 31 images belonging to 3 classes\n"
     ]
    }
   ],
   "source": [
    "#loading the data\n",
    "train_dir = r'D:\\COMPUTERS\\AI\\dataset_and_embeddings\\covid_datasets\\covid_cropped\\train'\n",
    "valid_dir = r'D:\\COMPUTERS\\AI\\dataset_and_embeddings\\covid_datasets\\covid_cropped\\valid'\n",
    "test_dir = r'D:\\COMPUTERS\\AI\\dataset_and_embeddings\\covid_datasets\\covid_cropped\\test'\n",
    "X_train ,Y_train = load_and_process_data(train_dir)\n",
    "X_test ,Y_test = load_and_process_data(test_dir)\n",
    "X_valid ,Y_valid = load_and_process_data(valid_dir)"
   ]
  },
  {
   "cell_type": "code",
   "execution_count": 48,
   "metadata": {},
   "outputs": [
    {
     "name": "stdout",
     "output_type": "stream",
     "text": [
      "Train on 587 samples, validate on 31 samples\n",
      "Epoch 1/60\n",
      "587/587 [==============================] - 21s 36ms/step - loss: 2.9386 - acc: 0.8262 - val_loss: 6.7673 - val_acc: 0.5484\n",
      "\n",
      "Epoch 00001: val_acc improved from -inf to 0.54839, saving model to cweights-improvement-01-0.5484.hdf5\n",
      "Epoch 2/60\n",
      "587/587 [==============================] - 19s 32ms/step - loss: 2.8054 - acc: 0.8279 - val_loss: 6.1747 - val_acc: 0.6129\n",
      "\n",
      "Epoch 00002: val_acc improved from 0.54839 to 0.61290, saving model to cweights-improvement-02-0.6129.hdf5\n",
      "Epoch 3/60\n",
      "587/587 [==============================] - 19s 32ms/step - loss: 2.4795 - acc: 0.8688 - val_loss: 6.4144 - val_acc: 0.6774\n",
      "\n",
      "Epoch 00003: val_acc improved from 0.61290 to 0.67742, saving model to cweights-improvement-03-0.6774.hdf5\n",
      "Epoch 4/60\n",
      "587/587 [==============================] - 21s 35ms/step - loss: 2.4079 - acc: 0.8450 - val_loss: 5.9269 - val_acc: 0.6452\n",
      "\n",
      "Epoch 00004: val_acc did not improve from 0.67742\n",
      "Epoch 5/60\n",
      "587/587 [==============================] - 16s 27ms/step - loss: 2.1567 - acc: 0.8739 - val_loss: 6.3992 - val_acc: 0.5484\n",
      "\n",
      "Epoch 00005: val_acc did not improve from 0.67742\n",
      "Epoch 6/60\n",
      "587/587 [==============================] - 16s 27ms/step - loss: 2.3569 - acc: 0.8722 - val_loss: 5.9660 - val_acc: 0.6452\n",
      "\n",
      "Epoch 00006: val_acc did not improve from 0.67742\n",
      "Epoch 7/60\n",
      "587/587 [==============================] - 16s 27ms/step - loss: 2.1974 - acc: 0.8773 - val_loss: 5.1360 - val_acc: 0.6452\n",
      "\n",
      "Epoch 00007: val_acc did not improve from 0.67742\n",
      "Epoch 8/60\n",
      "587/587 [==============================] - 16s 27ms/step - loss: 2.3525 - acc: 0.8620 - val_loss: 5.1493 - val_acc: 0.6452\n",
      "\n",
      "Epoch 00008: val_acc did not improve from 0.67742\n",
      "Epoch 9/60\n",
      "587/587 [==============================] - 16s 27ms/step - loss: 1.8105 - acc: 0.8876 - val_loss: 6.3135 - val_acc: 0.6129\n",
      "\n",
      "Epoch 00009: val_acc did not improve from 0.67742\n",
      "Epoch 10/60\n",
      "587/587 [==============================] - 16s 27ms/step - loss: 1.8505 - acc: 0.8842 - val_loss: 5.3522 - val_acc: 0.6774\n",
      "\n",
      "Epoch 00010: val_acc did not improve from 0.67742\n",
      "Epoch 11/60\n",
      "587/587 [==============================] - 16s 27ms/step - loss: 1.9813 - acc: 0.8859 - val_loss: 5.8705 - val_acc: 0.5806\n",
      "\n",
      "Epoch 00011: val_acc did not improve from 0.67742\n",
      "Epoch 12/60\n",
      "587/587 [==============================] - 16s 27ms/step - loss: 1.8595 - acc: 0.8944 - val_loss: 4.9667 - val_acc: 0.7097\n",
      "\n",
      "Epoch 00012: val_acc improved from 0.67742 to 0.70968, saving model to cweights-improvement-12-0.7097.hdf5\n",
      "Epoch 13/60\n",
      "587/587 [==============================] - 16s 27ms/step - loss: 1.9154 - acc: 0.9063 - val_loss: 5.2733 - val_acc: 0.6774\n",
      "\n",
      "Epoch 00013: val_acc did not improve from 0.70968\n",
      "Epoch 14/60\n",
      "587/587 [==============================] - 16s 27ms/step - loss: 1.9631 - acc: 0.8927 - val_loss: 5.0872 - val_acc: 0.7419\n",
      "\n",
      "Epoch 00014: val_acc improved from 0.70968 to 0.74194, saving model to cweights-improvement-14-0.7419.hdf5\n",
      "Epoch 15/60\n",
      "587/587 [==============================] - 16s 27ms/step - loss: 1.8260 - acc: 0.8995 - val_loss: 5.0219 - val_acc: 0.7419\n",
      "\n",
      "Epoch 00015: val_acc did not improve from 0.74194\n",
      "Epoch 16/60\n",
      "587/587 [==============================] - 16s 27ms/step - loss: 1.7386 - acc: 0.8995 - val_loss: 4.7042 - val_acc: 0.6774\n",
      "\n",
      "Epoch 00016: val_acc did not improve from 0.74194\n",
      "Epoch 17/60\n",
      "587/587 [==============================] - 16s 27ms/step - loss: 1.6447 - acc: 0.9012 - val_loss: 5.1527 - val_acc: 0.7097\n",
      "\n",
      "Epoch 00017: val_acc did not improve from 0.74194\n",
      "Epoch 18/60\n",
      "587/587 [==============================] - 16s 27ms/step - loss: 1.7665 - acc: 0.8927 - val_loss: 3.8958 - val_acc: 0.7419\n",
      "\n",
      "Epoch 00018: val_acc did not improve from 0.74194\n",
      "Epoch 19/60\n",
      "587/587 [==============================] - 16s 27ms/step - loss: 1.6028 - acc: 0.9080 - val_loss: 4.4399 - val_acc: 0.7742\n",
      "\n",
      "Epoch 00019: val_acc improved from 0.74194 to 0.77419, saving model to cweights-improvement-19-0.7742.hdf5\n",
      "Epoch 20/60\n",
      "587/587 [==============================] - 16s 27ms/step - loss: 1.6066 - acc: 0.9114 - val_loss: 4.2509 - val_acc: 0.6774\n",
      "\n",
      "Epoch 00020: val_acc did not improve from 0.77419\n",
      "Epoch 21/60\n",
      "587/587 [==============================] - 16s 27ms/step - loss: 1.6202 - acc: 0.9131 - val_loss: 5.1046 - val_acc: 0.6452\n",
      "\n",
      "Epoch 00021: val_acc did not improve from 0.77419\n",
      "Epoch 22/60\n",
      "587/587 [==============================] - 16s 27ms/step - loss: 1.5592 - acc: 0.9131 - val_loss: 4.4689 - val_acc: 0.6774\n",
      "\n",
      "Epoch 00022: val_acc did not improve from 0.77419\n",
      "Epoch 23/60\n",
      "587/587 [==============================] - 16s 27ms/step - loss: 1.5465 - acc: 0.9131 - val_loss: 4.7684 - val_acc: 0.6452\n",
      "\n",
      "Epoch 00023: val_acc did not improve from 0.77419\n",
      "Epoch 24/60\n",
      "587/587 [==============================] - 16s 27ms/step - loss: 1.8038 - acc: 0.8978 - val_loss: 4.1595 - val_acc: 0.7419\n",
      "\n",
      "Epoch 00024: val_acc did not improve from 0.77419\n",
      "Epoch 25/60\n",
      "587/587 [==============================] - 16s 27ms/step - loss: 1.3692 - acc: 0.9267 - val_loss: 4.5761 - val_acc: 0.6774\n",
      "\n",
      "Epoch 00025: val_acc did not improve from 0.77419\n",
      "Epoch 26/60\n",
      "587/587 [==============================] - 16s 27ms/step - loss: 1.5941 - acc: 0.9012 - val_loss: 4.9281 - val_acc: 0.7097\n",
      "\n",
      "Epoch 00026: val_acc did not improve from 0.77419\n",
      "Epoch 27/60\n",
      "587/587 [==============================] - 16s 27ms/step - loss: 1.7911 - acc: 0.8944 - val_loss: 3.9193 - val_acc: 0.7419\n",
      "\n",
      "Epoch 00027: val_acc did not improve from 0.77419\n",
      "Epoch 28/60\n",
      "587/587 [==============================] - 16s 27ms/step - loss: 1.4334 - acc: 0.9148 - val_loss: 4.5198 - val_acc: 0.8065\n",
      "\n",
      "Epoch 00028: val_acc improved from 0.77419 to 0.80645, saving model to cweights-improvement-28-0.8065.hdf5\n",
      "Epoch 29/60\n",
      "587/587 [==============================] - 16s 27ms/step - loss: 1.3661 - acc: 0.9148 - val_loss: 4.2928 - val_acc: 0.7742\n",
      "\n",
      "Epoch 00029: val_acc did not improve from 0.80645\n",
      "Epoch 30/60\n",
      "587/587 [==============================] - 16s 27ms/step - loss: 1.4898 - acc: 0.9233 - val_loss: 4.0777 - val_acc: 0.7097\n",
      "\n",
      "Epoch 00030: val_acc did not improve from 0.80645\n",
      "Epoch 31/60\n",
      "587/587 [==============================] - 16s 27ms/step - loss: 1.5096 - acc: 0.9080 - val_loss: 4.0804 - val_acc: 0.6774\n",
      "\n",
      "Epoch 00031: val_acc did not improve from 0.80645\n",
      "Epoch 32/60\n",
      "587/587 [==============================] - 16s 27ms/step - loss: 1.3440 - acc: 0.9336 - val_loss: 4.4466 - val_acc: 0.7419\n",
      "\n",
      "Epoch 00032: val_acc did not improve from 0.80645\n",
      "Epoch 33/60\n",
      "587/587 [==============================] - 16s 27ms/step - loss: 1.4480 - acc: 0.9267 - val_loss: 4.3242 - val_acc: 0.7097\n",
      "\n",
      "Epoch 00033: val_acc did not improve from 0.80645\n",
      "Epoch 34/60\n",
      "587/587 [==============================] - 16s 27ms/step - loss: 1.5309 - acc: 0.9267 - val_loss: 3.7677 - val_acc: 0.7419\n",
      "\n",
      "Epoch 00034: val_acc did not improve from 0.80645\n",
      "Epoch 35/60\n",
      "587/587 [==============================] - 16s 27ms/step - loss: 1.4204 - acc: 0.9233 - val_loss: 4.3407 - val_acc: 0.7742\n",
      "\n",
      "Epoch 00035: val_acc did not improve from 0.80645\n",
      "Epoch 36/60\n",
      "587/587 [==============================] - 16s 27ms/step - loss: 1.2300 - acc: 0.9284 - val_loss: 4.3838 - val_acc: 0.7742\n",
      "\n",
      "Epoch 00036: val_acc did not improve from 0.80645\n",
      "Epoch 37/60\n",
      "587/587 [==============================] - 16s 27ms/step - loss: 1.2129 - acc: 0.9404 - val_loss: 4.3439 - val_acc: 0.7419\n",
      "\n",
      "Epoch 00037: val_acc did not improve from 0.80645\n",
      "Epoch 38/60\n",
      "587/587 [==============================] - 16s 27ms/step - loss: 1.2716 - acc: 0.9250 - val_loss: 4.6777 - val_acc: 0.7742\n",
      "\n",
      "Epoch 00038: val_acc did not improve from 0.80645\n",
      "Epoch 39/60\n",
      "587/587 [==============================] - 16s 27ms/step - loss: 1.3666 - acc: 0.9216 - val_loss: 4.2767 - val_acc: 0.7419\n",
      "\n",
      "Epoch 00039: val_acc did not improve from 0.80645\n",
      "Epoch 40/60\n",
      "587/587 [==============================] - 16s 27ms/step - loss: 1.1373 - acc: 0.9233 - val_loss: 4.5993 - val_acc: 0.7742\n",
      "\n",
      "Epoch 00040: val_acc did not improve from 0.80645\n",
      "Epoch 41/60\n",
      "587/587 [==============================] - 16s 27ms/step - loss: 1.2640 - acc: 0.9353 - val_loss: 4.8696 - val_acc: 0.7742\n",
      "\n",
      "Epoch 00041: val_acc did not improve from 0.80645\n",
      "Epoch 42/60\n",
      "587/587 [==============================] - 16s 27ms/step - loss: 1.4097 - acc: 0.9336 - val_loss: 4.0141 - val_acc: 0.7742\n"
     ]
    },
    {
     "name": "stdout",
     "output_type": "stream",
     "text": [
      "\n",
      "Epoch 00042: val_acc did not improve from 0.80645\n",
      "Epoch 43/60\n",
      "587/587 [==============================] - 16s 27ms/step - loss: 1.2944 - acc: 0.9250 - val_loss: 3.7542 - val_acc: 0.7742\n",
      "\n",
      "Epoch 00043: val_acc did not improve from 0.80645\n",
      "Epoch 44/60\n",
      "587/587 [==============================] - 16s 27ms/step - loss: 1.1672 - acc: 0.9336 - val_loss: 3.4816 - val_acc: 0.8065\n",
      "\n",
      "Epoch 00044: val_acc did not improve from 0.80645\n",
      "Epoch 45/60\n",
      "587/587 [==============================] - 16s 27ms/step - loss: 1.3630 - acc: 0.9267 - val_loss: 3.5554 - val_acc: 0.7419\n",
      "\n",
      "Epoch 00045: val_acc did not improve from 0.80645\n",
      "Epoch 46/60\n",
      "587/587 [==============================] - 16s 27ms/step - loss: 1.3242 - acc: 0.9216 - val_loss: 3.9791 - val_acc: 0.7742\n",
      "\n",
      "Epoch 00046: val_acc did not improve from 0.80645\n",
      "Epoch 47/60\n",
      "587/587 [==============================] - 16s 27ms/step - loss: 1.1773 - acc: 0.9302 - val_loss: 3.5291 - val_acc: 0.7742\n",
      "\n",
      "Epoch 00047: val_acc did not improve from 0.80645\n",
      "Epoch 48/60\n",
      "587/587 [==============================] - 16s 27ms/step - loss: 1.2605 - acc: 0.9336 - val_loss: 3.3880 - val_acc: 0.8065\n",
      "\n",
      "Epoch 00048: val_acc did not improve from 0.80645\n",
      "Epoch 49/60\n",
      "587/587 [==============================] - 16s 27ms/step - loss: 1.1673 - acc: 0.9370 - val_loss: 3.5699 - val_acc: 0.7742\n",
      "\n",
      "Epoch 00049: val_acc did not improve from 0.80645\n",
      "Epoch 50/60\n",
      "587/587 [==============================] - 16s 27ms/step - loss: 1.0791 - acc: 0.9421 - val_loss: 4.1978 - val_acc: 0.7419\n",
      "\n",
      "Epoch 00050: val_acc did not improve from 0.80645\n",
      "Epoch 51/60\n",
      "587/587 [==============================] - 16s 27ms/step - loss: 1.0807 - acc: 0.9370 - val_loss: 3.4234 - val_acc: 0.8387\n",
      "\n",
      "Epoch 00051: val_acc improved from 0.80645 to 0.83871, saving model to cweights-improvement-51-0.8387.hdf5\n",
      "Epoch 52/60\n",
      "587/587 [==============================] - 16s 27ms/step - loss: 1.1205 - acc: 0.9404 - val_loss: 3.2929 - val_acc: 0.8387\n",
      "\n",
      "Epoch 00052: val_acc did not improve from 0.83871\n",
      "Epoch 53/60\n",
      "587/587 [==============================] - 16s 27ms/step - loss: 0.9234 - acc: 0.9523 - val_loss: 3.4275 - val_acc: 0.8387\n",
      "\n",
      "Epoch 00053: val_acc did not improve from 0.83871\n",
      "Epoch 54/60\n",
      "587/587 [==============================] - 16s 27ms/step - loss: 0.9433 - acc: 0.9370 - val_loss: 3.5242 - val_acc: 0.8065\n",
      "\n",
      "Epoch 00054: val_acc did not improve from 0.83871\n",
      "Epoch 55/60\n",
      "587/587 [==============================] - 16s 27ms/step - loss: 0.9567 - acc: 0.9404 - val_loss: 3.7507 - val_acc: 0.7742\n",
      "\n",
      "Epoch 00055: val_acc did not improve from 0.83871\n",
      "Epoch 56/60\n",
      "587/587 [==============================] - 16s 27ms/step - loss: 1.0162 - acc: 0.9489 - val_loss: 3.8693 - val_acc: 0.7419\n",
      "\n",
      "Epoch 00056: val_acc did not improve from 0.83871\n",
      "Epoch 57/60\n",
      "587/587 [==============================] - 16s 27ms/step - loss: 1.0779 - acc: 0.9319 - val_loss: 3.9113 - val_acc: 0.6774\n",
      "\n",
      "Epoch 00057: val_acc did not improve from 0.83871\n",
      "Epoch 58/60\n",
      "587/587 [==============================] - 16s 27ms/step - loss: 0.9975 - acc: 0.9438 - val_loss: 4.2803 - val_acc: 0.6774\n",
      "\n",
      "Epoch 00058: val_acc did not improve from 0.83871\n",
      "Epoch 59/60\n",
      "587/587 [==============================] - 16s 27ms/step - loss: 0.8275 - acc: 0.9421 - val_loss: 4.2747 - val_acc: 0.6452\n",
      "\n",
      "Epoch 00059: val_acc did not improve from 0.83871\n",
      "Epoch 60/60\n",
      "587/587 [==============================] - 16s 27ms/step - loss: 0.9231 - acc: 0.9336 - val_loss: 3.7663 - val_acc: 0.6452\n",
      "\n",
      "Epoch 00060: val_acc did not improve from 0.83871\n"
     ]
    }
   ],
   "source": [
    "#training and callbacks\n",
    "filepath=\"cweights-improvement-{epoch:02d}-{val_acc:.4f}.hdf5\"\n",
    "callbacks = checkpoint(filepath ,monitor = 'val_acc' ,verbose = 1 ,save_best_only = True ,mode = 'max')\n",
    "history = model.fit(X_train ,\n",
    "                    Y_train ,\n",
    "                    epochs = 60 ,\n",
    "                    batch_size = 8 ,\n",
    "                    verbose = 1 ,\n",
    "                    validation_data = (X_valid ,Y_valid) ,callbacks = [callbacks])"
   ]
  },
  {
   "cell_type": "code",
   "execution_count": 49,
   "metadata": {},
   "outputs": [],
   "source": [
    "model.load_weights('cweights-improvement-51-0.8387.hdf5')"
   ]
  },
  {
   "cell_type": "code",
   "execution_count": 50,
   "metadata": {},
   "outputs": [
    {
     "data": {
      "image/png": "[encoded data removed]",
      "text/plain": [
       "<Figure size 432x288 with 1 Axes>"
      ]
     },
     "metadata": {
      "needs_background": "light"
     },
     "output_type": "display_data"
    },
    {
     "data": {
      "image/png": "[encoded data removed]",
      "text/plain": [
       "<Figure size 432x288 with 1 Axes>"
      ]
     },
     "metadata": {
      "needs_background": "light"
     },
     "output_type": "display_data"
    }
   ],
   "source": [
    "plt.plot(history.history['acc'])\n",
    "plt.plot(history.history['val_acc'])\n",
    "plt.title('model accuracy')\n",
    "plt.ylabel('accuracy')\n",
    "plt.xlabel('epoch')\n",
    "plt.legend(['train', 'val'], loc='lower right')\n",
    "plt.show()\n",
    "# summarize history for loss\n",
    "plt.plot(history.history['loss'])\n",
    "plt.plot(history.history['val_loss'])\n",
    "plt.title('model loss')\n",
    "plt.ylabel('loss')\n",
    "plt.xlabel('epoch')\n",
    "plt.legend(['train', 'val'], loc='upper right')\n",
    "plt.show()"
   ]
  },
  {
   "cell_type": "code",
   "execution_count": 51,
   "metadata": {},
   "outputs": [],
   "source": [
    "X_test_ = np.asarray(list(X_test) + list(X_valid))\n",
    "Y_test_ = np.asarray(list(Y_test) + list(Y_valid))"
   ]
  },
  {
   "cell_type": "code",
   "execution_count": 52,
   "metadata": {},
   "outputs": [
    {
     "name": "stdout",
     "output_type": "stream",
     "text": [
      "73/73 [==============================] - 1s 7ms/step\n"
     ]
    },
    {
     "data": {
      "text/plain": [
       "[26.319490680955862, 0.7123287916183472]"
      ]
     },
     "execution_count": 52,
     "metadata": {},
     "output_type": "execute_result"
    }
   ],
   "source": [
    "model.evaluate(X_test_ ,Y_test_)"
   ]
  },
  {
   "cell_type": "code",
   "execution_count": 53,
   "metadata": {},
   "outputs": [],
   "source": [
    "#predicting\n",
    "y_test_pred = model.predict(X_test_)"
   ]
  },
  {
   "cell_type": "code",
   "execution_count": 54,
   "metadata": {},
   "outputs": [],
   "source": [
    "#converting into classes\n",
    "final_y_pred = []\n",
    "final_y_true = []\n",
    "for i in range(y_test_pred.shape[0]):\n",
    "    k = np.argmax(y_test_pred[i])\n",
    "    final_y_pred.append(k+1)\n",
    "for i in range(Y_test_.shape[0]):\n",
    "    k = np.argmax(Y_test_[i])\n",
    "    final_y_true.append(k+1)"
   ]
  },
  {
   "cell_type": "code",
   "execution_count": 55,
   "metadata": {},
   "outputs": [
    {
     "name": "stdout",
     "output_type": "stream",
     "text": [
      "[[21  1  1]\n",
      " [ 7 14  3]\n",
      " [ 2  7 17]]\n"
     ]
    },
    {
     "data": {
      "text/plain": [
       "<matplotlib.image.AxesImage at 0x1b8133c3988>"
      ]
     },
     "execution_count": 55,
     "metadata": {},
     "output_type": "execute_result"
    },
    {
     "data": {
      "image/png": "[encoded data removed]",
      "text/plain": [
       "<Figure size 432x288 with 1 Axes>"
      ]
     },
     "metadata": {
      "needs_background": "light"
     },
     "output_type": "display_data"
    }
   ],
   "source": [
    "#confusion matrix\n",
    "k = confusion_matrix(final_y_true ,final_y_pred)\n",
    "print(k)\n",
    "plt.imshow(k ,cmap = 'gray')"
   ]
  },
  {
   "cell_type": "code",
   "execution_count": 56,
   "metadata": {},
   "outputs": [
    {
     "name": "stdout",
     "output_type": "stream",
     "text": [
      "accuracy score : 0.7123287671232876\n",
      "precision score : 0.7123287671232876\n",
      "recall score : 0.7123287671232876\n",
      "f1 score : 0.7123287671232877\n"
     ]
    }
   ],
   "source": [
    "#acc_score ,pre_score ,recall ,f1\n",
    "acc_score = accuracy_score(final_y_true ,final_y_pred)\n",
    "pre_score = precision_score(final_y_true ,final_y_pred ,average = 'micro')\n",
    "recall = recall_score(final_y_true ,final_y_pred ,average = 'micro')\n",
    "f1 = f1_score(final_y_true ,final_y_pred ,average = 'micro')\n",
    "\n",
    "print('accuracy score : {}'.format(acc_score))\n",
    "print('precision score : {}'.format(pre_score))\n",
    "print('recall score : {}'.format(recall))\n",
    "print('f1 score : {}'.format(f1))\n"
   ]
  },
  {
   "cell_type": "code",
   "execution_count": 57,
   "metadata": {},
   "outputs": [
    {
     "data": {
      "text/plain": [
       "[<keras.engine.input_layer.InputLayer at 0x1b751eafe08>,\n",
       " <keras.layers.convolutional.Conv2D at 0x1b751e90d08>,\n",
       " <keras.layers.convolutional.Conv2D at 0x1b751e91808>,\n",
       " <keras.layers.pooling.MaxPooling2D at 0x1b751ed1408>,\n",
       " <keras.layers.core.Dropout at 0x1b751ed1748>,\n",
       " <keras.layers.convolutional.Conv2D at 0x1b751ed1a88>,\n",
       " <keras.layers.convolutional.Conv2D at 0x1b751ed1d88>,\n",
       " <keras.layers.pooling.MaxPooling2D at 0x1b751ed6148>,\n",
       " <keras.layers.core.Dropout at 0x1b751ed64c8>,\n",
       " <keras.layers.convolutional.Conv2D at 0x1b751ed6708>,\n",
       " <keras.layers.convolutional.Conv2D at 0x1b751ed6b08>,\n",
       " <keras.layers.pooling.MaxPooling2D at 0x1b751ed6f08>,\n",
       " <keras.layers.core.Dropout at 0x1b751ee0248>,\n",
       " <keras.layers.convolutional.Conv2D at 0x1b751ee0488>,\n",
       " <keras.layers.convolutional.Conv2D at 0x1b751ee0888>,\n",
       " <keras.layers.pooling.MaxPooling2D at 0x1b751ee0c88>,\n",
       " <keras.layers.core.Dropout at 0x1b751ee0f88>,\n",
       " <keras.layers.convolutional.Conv2D at 0x1b751ee3208>,\n",
       " <keras.layers.convolutional.Conv2D at 0x1b751ee3608>,\n",
       " <keras.layers.convolutional.Conv2DTranspose at 0x1b751ee3a08>,\n",
       " <keras.layers.merge.Concatenate at 0x1b751ee3e48>,\n",
       " <keras.layers.core.Dropout at 0x1b751ee3088>,\n",
       " <keras.layers.convolutional.Conv2D at 0x1b751ee6288>,\n",
       " <keras.layers.convolutional.Conv2D at 0x1b751ee6688>,\n",
       " <keras.layers.convolutional.Conv2D at 0x1b751eaf448>,\n",
       " <keras.layers.pooling.MaxPooling2D at 0x1b750e4f148>,\n",
       " <keras.layers.core.Flatten at 0x1b751eaf108>,\n",
       " <keras.layers.core.Activation at 0x1b7584b1e08>,\n",
       " <keras.layers.core.Dropout at 0x1b7584b1f08>,\n",
       " <keras.layers.core.Dense at 0x1b751167c88>,\n",
       " <keras.layers.merge.Multiply at 0x1b7584b7488>,\n",
       " <keras.layers.core.Dense at 0x1b7584b1e48>]"
      ]
     },
     "execution_count": 57,
     "metadata": {},
     "output_type": "execute_result"
    }
   ],
   "source": [
    "#printing the model layers\n",
    "model.layers"
   ]
  },
  {
   "cell_type": "code",
   "execution_count": 58,
   "metadata": {},
   "outputs": [],
   "source": [
    "#defining grad cam function\n",
    "def grad_cam(image, cls):\n",
    "    \"\"\"GradCAM method for visualizing input saliency.\"\"\"\n",
    "    y_c = model.output[0, cls]\n",
    "    conv_output = model.get_layer('conv').output\n",
    "    grads = K.gradients(y_c, conv_output)[0]\n",
    "    # Normalize if necessary\n",
    "    # grads = normalize(grads)\n",
    "    gradient_function = K.function([model.input], [conv_output, grads])\n",
    "\n",
    "    output, grads_val = gradient_function([image])\n",
    "    output, grads_val = output[0, :], grads_val[0, :, :, :]\n",
    "\n",
    "    weights = np.mean(grads_val, axis=(0, 1))\n",
    "    cam = np.dot(output, weights)\n",
    "\n",
    "    # Process CAM\n",
    "    cam = cv2.resize(cam, (224 ,224), cv2.INTER_LINEAR)\n",
    "    cam = np.maximum(cam, 0)\n",
    "    cam = cam / cam.max()\n",
    "    return cam"
   ]
  },
  {
   "cell_type": "code",
   "execution_count": 59,
   "metadata": {},
   "outputs": [],
   "source": [
    "#computing gradcam map for random image\n",
    "#directories can be adjusted\n",
    "direc = r'D:\\COMPUTERS\\AI\\dataset_and_embeddings\\covid_datasets\\cropped2\\valid\\covid\\3.covid-19-pneumonia-2.jpg'\n",
    "#images = os.listdir(direc)\n",
    "#img = random.choice(images)\n",
    "#test_image_dir = os.path.join(direc ,img)\n",
    "image = preprocess(direc)\n",
    "cam = grad_cam(image.reshape(1,224,224,1), cls=0)"
   ]
  },
  {
   "cell_type": "code",
   "execution_count": 60,
   "metadata": {},
   "outputs": [
    {
     "data": {
      "text/plain": [
       "0"
      ]
     },
     "execution_count": 60,
     "metadata": {},
     "output_type": "execute_result"
    }
   ],
   "source": [
    "#predicted class\n",
    "np.argmax(model.predict(image.reshape(1,224,224,1)))"
   ]
  },
  {
   "cell_type": "code",
   "execution_count": 61,
   "metadata": {},
   "outputs": [
    {
     "data": {
      "image/png": "[encoded data removed]",
      "text/plain": [
       "<Figure size 432x288 with 1 Axes>"
      ]
     },
     "metadata": {
      "needs_background": "light"
     },
     "output_type": "display_data"
    }
   ],
   "source": [
    "#plotting gradcam\n",
    "plt.title('GradCAM')\n",
    "plt.axis('off')\n",
    "plt.imshow(cv2.resize(cv2.imread(direc),(224,244)))\n",
    "plt.imshow(cam, cmap='jet', alpha=0.5)\n",
    "plt.show()"
   ]
  },
  {
   "cell_type": "code",
   "execution_count": 137,
   "metadata": {},
   "outputs": [],
   "source": [
    "#saving model\n",
    "model.save('best.h5')"
   ]
  },
  {
   "cell_type": "code",
   "execution_count": null,
   "metadata": {},
   "outputs": [],
   "source": []
  },
  {
   "cell_type": "code",
   "execution_count": null,
   "metadata": {},
   "outputs": [],
   "source": []
  },
  {
   "cell_type": "code",
   "execution_count": null,
   "metadata": {},
   "outputs": [],
   "source": []
  },
  {
   "cell_type": "code",
   "execution_count": null,
   "metadata": {},
   "outputs": [],
   "source": []
  }
 ],
 "metadata": {
  "kernelspec": {
   "display_name": "Python 3",
   "language": "python",
   "name": "python3"
  },
  "language_info": {
   "codemirror_mode": {
    "name": "ipython",
    "version": 3
   },
   "file_extension": ".py",
   "mimetype": "text/x-python",
   "name": "python",
   "nbconvert_exporter": "python",
   "pygments_lexer": "ipython3",
   "version": "3.7.7"
  }
 },
 "nbformat": 4,
 "nbformat_minor": 2
}
